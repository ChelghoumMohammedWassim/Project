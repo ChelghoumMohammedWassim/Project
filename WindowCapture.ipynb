{
 "cells": [
  {
   "cell_type": "code",
   "execution_count": 2,
   "metadata": {},
   "outputs": [],
   "source": [
    "import numpy as np\n",
    "import cv2 as cv\n",
    "import pyautogui\n",
    "from PIL import ImageGrab\n",
    "import win32gui\n",
    "from tools.capture.windowCapture import WindowCapture\n",
    "from tools.filters.edgeFilter import EdgeFilter\n",
    "from tools.filters.hsvFilter import HsvFilter"
   ]
  },
  {
   "cell_type": "code",
   "execution_count": null,
   "metadata": {},
   "outputs": [],
   "source": [
    "#get all windows names\n",
    "WindowCapture.list_window_names()\n",
    "\n",
    "#create capture instance\n",
    "winCap=WindowCapture(windowName=None)\n",
    "\n",
    "#get device resolution\n",
    "w, h = pyautogui.size()\n",
    "print(\"Screen Resolution: \" + str(w) + 'x' + str(h))"
   ]
  },
  {
   "cell_type": "code",
   "execution_count": 7,
   "metadata": {},
   "outputs": [],
   "source": [
    "#target window \n",
    "windowName='Program Manager'\n",
    "hwnd=win32gui.FindWindow(None,windowName)\n",
    "\n",
    "#init ui controller filters\n",
    "hsv_filter=HsvFilter(35, 159, 81, 194, 51, 136, 25, 61, 24, 107)\n",
    "hsv_filter.init_control_gui()\n",
    "\n",
    "canny_filter=EdgeFilter()\n",
    "canny_filter.init_control_gui()\n",
    "\n",
    "while True:\n",
    "        #get target pixels\n",
    "        left, top, right, bottom = win32gui.GetWindowRect(hwnd)\n",
    "        \n",
    "        #take screenshot\n",
    "        screenshot=ImageGrab.grab(bbox=(left, top, right, bottom))\n",
    "    \n",
    "        #convert to array and convert from RGB to BGR\n",
    "        screenshot=np.array(screenshot)\n",
    "        screenshot=cv.cvtColor(screenshot, cv.COLOR_RGB2BGR)\n",
    "        \n",
    "        #apply filter\n",
    "        filtered_image=hsv_filter.apply_hsv_filter(screenshot)\n",
    "        \n",
    "        applyCanny = cv.getTrackbarPos('Use Canny?', \"Edges Trackbars\")\n",
    "        if applyCanny==1 :\n",
    "            filtered_image=canny_filter.apply_edge_filter(screenshot)\n",
    "\n",
    "        #show result in live window\n",
    "        result_filtered_image=cv.resize(filtered_image,(0,0),fx=0.6,fy=0.6) \n",
    "        cv.imshow('Computer Treatment',result_filtered_image)\n",
    "        \n",
    "        #press * to close the window            \n",
    "        if cv.waitKey(1)==ord('*'):\n",
    "            cv.destroyAllWindows()\n",
    "            break\n"
   ]
  }
 ],
 "metadata": {
  "kernelspec": {
   "display_name": "Python 3",
   "language": "python",
   "name": "python3"
  },
  "language_info": {
   "codemirror_mode": {
    "name": "ipython",
    "version": 3
   },
   "file_extension": ".py",
   "mimetype": "text/x-python",
   "name": "python",
   "nbconvert_exporter": "python",
   "pygments_lexer": "ipython3",
   "version": "3.9.18"
  }
 },
 "nbformat": 4,
 "nbformat_minor": 2
}

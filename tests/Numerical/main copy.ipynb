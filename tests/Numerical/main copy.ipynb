{
 "cells": [
  {
   "cell_type": "code",
   "execution_count": 1,
   "id": "2927d501",
   "metadata": {
    "tags": []
   },
   "outputs": [],
   "source": [
    "import sys\n",
    "sys.path.append('../..')\n",
    "from tools.GA.NumericalGeneticAlgorithm import NumericalGeneticAlgorithm\n",
    "from sklearn.model_selection import train_test_split\n",
    "from weka.classifiers import Classifier, Evaluation\n",
    "import weka.core.converters as converters\n",
    "from weka.core.classes import Random\n",
    "from weka.filters import Filter\n",
    "import pandas as pd\n",
    "import numpy as np\n",
    "import csv\n",
    "import weka.core.jvm as jvm"
   ]
  },
  {
   "cell_type": "code",
   "execution_count": 2,
   "id": "8760efc1",
   "metadata": {},
   "outputs": [
    {
     "name": "stderr",
     "output_type": "stream",
     "text": [
      "DEBUG:weka.core.jvm:Adding bundled jars\n",
      "DEBUG:weka.core.jvm:Adding system classpath\n",
      "DEBUG:weka.core.jvm:Classpath=['C:\\\\Users\\\\ch\\\\miniconda3\\\\envs\\\\tf\\\\Lib\\\\site-packages\\\\javabridge\\\\jars\\\\rhino-1.7R4.jar', 'C:\\\\Users\\\\ch\\\\miniconda3\\\\envs\\\\tf\\\\Lib\\\\site-packages\\\\javabridge\\\\jars\\\\runnablequeue.jar', 'C:\\\\Users\\\\ch\\\\miniconda3\\\\envs\\\\tf\\\\Lib\\\\site-packages\\\\javabridge\\\\jars\\\\cpython.jar', 'c:\\\\Users\\\\ch\\\\miniconda3\\\\envs\\\\tf\\\\lib\\\\site-packages\\\\weka\\\\lib\\\\arpack_combined.jar', 'c:\\\\Users\\\\ch\\\\miniconda3\\\\envs\\\\tf\\\\lib\\\\site-packages\\\\weka\\\\lib\\\\core.jar', 'c:\\\\Users\\\\ch\\\\miniconda3\\\\envs\\\\tf\\\\lib\\\\site-packages\\\\weka\\\\lib\\\\mtj.jar', 'c:\\\\Users\\\\ch\\\\miniconda3\\\\envs\\\\tf\\\\lib\\\\site-packages\\\\weka\\\\lib\\\\python-weka-wrapper.jar', 'c:\\\\Users\\\\ch\\\\miniconda3\\\\envs\\\\tf\\\\lib\\\\site-packages\\\\weka\\\\lib\\\\weka.jar']\n",
      "DEBUG:weka.core.jvm:MaxHeapSize=512m\n",
      "DEBUG:weka.core.jvm:Package support enabled\n"
     ]
    }
   ],
   "source": [
    "jvm.start(system_cp=True, packages=True, max_heap_size=\"512m\")"
   ]
  },
  {
   "cell_type": "code",
   "execution_count": 3,
   "id": "4d8219a6",
   "metadata": {},
   "outputs": [],
   "source": [
    "rnd_seed = 42\n",
    "runs=10\n",
    "nominal_filter = Filter(classname=\"weka.filters.unsupervised.attribute.NumericToNominal\", options=[\"-R\", \"last\"])"
   ]
  },
  {
   "cell_type": "code",
   "execution_count": 4,
   "id": "6e2f6127",
   "metadata": {},
   "outputs": [],
   "source": [
    "data_set=\"..\\\\datasets\\\\Numerical\\\\sonar.csv\""
   ]
  },
  {
   "cell_type": "code",
   "execution_count": 5,
   "id": "7d754baa",
   "metadata": {},
   "outputs": [
    {
     "name": "stdout",
     "output_type": "stream",
     "text": [
      "\n",
      "Correctly Classified Instances         151               72.9469 %\n",
      "Incorrectly Classified Instances        56               27.0531 %\n",
      "Kappa statistic                          0.4553\n",
      "Mean absolute error                      0.2703\n",
      "Root mean squared error                  0.507 \n",
      "Relative absolute error                 54.3269 %\n",
      "Root relative squared error            101.6491 %\n",
      "Total Number of Instances              207     \n",
      "\n"
     ]
    }
   ],
   "source": [
    "data = converters.load_any_file(data_set)\n",
    "\n",
    "data.class_is_last()\n",
    "\n",
    "nominal_filter.inputformat(data)\n",
    "data = nominal_filter.filter(data)\n",
    "\n",
    "\n",
    "cls = Classifier(classname=\"weka.classifiers.trees.J48\")\n",
    "\n",
    "evaluation = Evaluation(data)\n",
    "evaluation.crossvalidate_model(cls, data, 10, Random(42))\n",
    "print(evaluation.summary())"
   ]
  },
  {
   "cell_type": "code",
   "execution_count": 6,
   "id": "21585205",
   "metadata": {},
   "outputs": [
    {
     "name": "stderr",
     "output_type": "stream",
     "text": [
      "INFO:weka.core.jvm:JVM already running, call jvm.stop() first\n"
     ]
    },
    {
     "name": "stdout",
     "output_type": "stream",
     "text": [
      "Best solution acc: 83.03030303030303\n",
      "Best solution acc: 81.81818181818181\n",
      "Best solution acc: 83.63636363636364\n",
      "Best solution acc: 81.81818181818181\n",
      "Best solution acc: 81.81818181818181\n",
      "Best solution acc: 83.03030303030303\n",
      "Best solution acc: 83.63636363636364\n",
      "Best solution acc: 81.21212121212122\n",
      "Best solution acc: 83.03030303030303\n",
      "Best solution acc: 84.84848484848484\n"
     ]
    }
   ],
   "source": [
    "results=[]\n",
    "train, test = train_test_split(data, random_state=42, test_size=0.2)\n",
    "geneticAlgorithm = NumericalGeneticAlgorithm(train=pd.DataFrame(train), test= pd.DataFrame(test))\n",
    "for i in range(runs):\n",
    "        results.append(geneticAlgorithm.run(\n",
    "            generation_limit=60,\n",
    "            population_size=26,\n",
    "            rnd_seed=42\n",
    "        ))"
   ]
  },
  {
   "cell_type": "code",
   "execution_count": 7,
   "id": "462837bc",
   "metadata": {},
   "outputs": [
    {
     "name": "stdout",
     "output_type": "stream",
     "text": [
      "run number 0 accuarcy: 69.04761904761905\n",
      "run number 1 accuarcy: 71.42857142857143\n",
      "run number 2 accuarcy: 71.42857142857143\n",
      "run number 3 accuarcy: 69.04761904761905\n",
      "run number 4 accuarcy: 59.523809523809526\n",
      "run number 5 accuarcy: 52.38095238095238\n",
      "run number 6 accuarcy: 52.38095238095238\n",
      "run number 7 accuarcy: 47.61904761904762\n",
      "run number 8 accuarcy: 52.38095238095238\n",
      "run number 9 accuarcy: 71.42857142857143\n"
     ]
    }
   ],
   "source": [
    "best_solution=0\n",
    "for i in range(runs):\n",
    "        data=results[i]\n",
    "        train=data[0]\n",
    "        test=data[1]\n",
    "        with open('train.csv', 'w', newline='') as file:\n",
    "            writer = csv.writer(file)\n",
    "            for row in train:\n",
    "                writer.writerow(row)\n",
    "\n",
    "        with open('test.csv', 'w', newline='') as file:\n",
    "            writer = csv.writer(file)\n",
    "            for row in test:\n",
    "                writer.writerow(row)\n",
    "\n",
    "        test = converters.load_any_file(\"test.csv\")\n",
    "        test.class_is_last()\n",
    "        \n",
    "        nominal_filter.inputformat(test)\n",
    "        test = nominal_filter.filter(test)\n",
    "        \n",
    "        cls = Classifier(classname=\"weka.classifiers.trees.J48\")\n",
    "        evaluation=Evaluation(test)\n",
    "        evaluation.crossvalidate_model(cls, test, 10, Random(42))\n",
    "        print(\"run number \"+str(i)+\" accuarcy: \"+str(evaluation.percent_correct))\n",
    "        if evaluation.percent_correct>best_solution:\n",
    "            best_data=results[i]\n",
    "            best_solution=evaluation.percent_correct"
   ]
  },
  {
   "cell_type": "code",
   "execution_count": 8,
   "id": "7dad8987",
   "metadata": {},
   "outputs": [],
   "source": [
    "data=best_data\n",
    "train=data[0]\n",
    "test=data[1]"
   ]
  },
  {
   "cell_type": "code",
   "execution_count": 9,
   "id": "28ee15fb",
   "metadata": {},
   "outputs": [],
   "source": [
    "with open('train.csv', 'w', newline='') as file:\n",
    "    writer = csv.writer(file)\n",
    "    for row in train:\n",
    "        writer.writerow(row)\n",
    "\n",
    "with open('test.csv', 'w', newline='') as file:\n",
    "    writer = csv.writer(file)\n",
    "    for row in test:\n",
    "        writer.writerow(row)"
   ]
  },
  {
   "cell_type": "code",
   "execution_count": 10,
   "id": "7645b664",
   "metadata": {},
   "outputs": [],
   "source": [
    "test = converters.load_any_file(\"test.csv\")\n",
    "test.class_is_last()\n",
    "\n",
    "train = converters.load_any_file(\"train.csv\")\n",
    "train.class_is_last()\n",
    "\n",
    "\n",
    "nominal_filter.inputformat(train)\n",
    "train = nominal_filter.filter(train)\n",
    "\n",
    "nominal_filter.inputformat(test)\n",
    "test = nominal_filter.filter(test)\n"
   ]
  },
  {
   "cell_type": "code",
   "execution_count": 11,
   "id": "f491cd3d",
   "metadata": {},
   "outputs": [
    {
     "ename": "NameError",
     "evalue": "name 'best_split' is not defined",
     "output_type": "error",
     "traceback": [
      "\u001b[1;31m---------------------------------------------------------------------------\u001b[0m",
      "\u001b[1;31mNameError\u001b[0m                                 Traceback (most recent call last)",
      "Cell \u001b[1;32mIn[11], line 4\u001b[0m\n\u001b[0;32m      2\u001b[0m evaluation\u001b[38;5;241m=\u001b[39mEvaluation(test)\n\u001b[0;32m      3\u001b[0m evaluation\u001b[38;5;241m.\u001b[39mcrossvalidate_model(\u001b[38;5;28mcls\u001b[39m, test, \u001b[38;5;241m10\u001b[39m, Random(\u001b[38;5;241m42\u001b[39m))\n\u001b[1;32m----> 4\u001b[0m \u001b[38;5;28mprint\u001b[39m(\u001b[38;5;124m\"\u001b[39m\u001b[38;5;124mtrain size: \u001b[39m\u001b[38;5;124m\"\u001b[39m\u001b[38;5;241m+\u001b[39m\u001b[38;5;28mstr\u001b[39m(\u001b[38;5;241m1\u001b[39m\u001b[38;5;241m-\u001b[39m\u001b[43mbest_split\u001b[49m))\n\u001b[0;32m      5\u001b[0m \u001b[38;5;28mprint\u001b[39m(\u001b[38;5;124m\"\u001b[39m\u001b[38;5;124mtest size: \u001b[39m\u001b[38;5;124m\"\u001b[39m\u001b[38;5;241m+\u001b[39m\u001b[38;5;28mstr\u001b[39m(best_split))\n\u001b[0;32m      6\u001b[0m \u001b[38;5;28mprint\u001b[39m(evaluation\u001b[38;5;241m.\u001b[39msummary())\n",
      "\u001b[1;31mNameError\u001b[0m: name 'best_split' is not defined"
     ]
    }
   ],
   "source": [
    "cls = Classifier(classname=\"weka.classifiers.trees.J48\")\n",
    "evaluation=Evaluation(test)\n",
    "evaluation.crossvalidate_model(cls, test, 10, Random(42))\n",
    "print(\"train size: \"+str(1-best_split))\n",
    "print(\"test size: \"+str(best_split))\n",
    "print(evaluation.summary())\n",
    "print(evaluation.confusion_matrix)"
   ]
  }
 ],
 "metadata": {
  "kernelspec": {
   "display_name": "base",
   "language": "python",
   "name": "python3"
  },
  "language_info": {
   "codemirror_mode": {
    "name": "ipython",
    "version": 3
   },
   "file_extension": ".py",
   "mimetype": "text/x-python",
   "name": "python",
   "nbconvert_exporter": "python",
   "pygments_lexer": "ipython3",
   "version": "3.9.18"
  },
  "vscode": {
   "interpreter": {
    "hash": "0cf3a3194fbdefa162d654b26690258890867b8a49d09c9d02dff18b3aa877aa"
   }
  }
 },
 "nbformat": 4,
 "nbformat_minor": 5
}

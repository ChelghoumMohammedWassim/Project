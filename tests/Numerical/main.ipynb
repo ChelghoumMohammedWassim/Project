{
 "cells": [
  {
   "cell_type": "code",
   "execution_count": 1,
   "id": "2927d501",
   "metadata": {
    "tags": []
   },
   "outputs": [],
   "source": [
    "import sys\n",
    "sys.path.append('../..')\n",
    "from tools.GA.NumericalGeneticAlgorithm import NumericalGeneticAlgorithm\n",
    "from sklearn.model_selection import train_test_split\n",
    "from weka.classifiers import Classifier, Evaluation\n",
    "import weka.core.converters as converters\n",
    "from weka.core.classes import Random\n",
    "from weka.filters import Filter\n",
    "import pandas as pd\n",
    "import numpy as np\n",
    "import csv\n",
    "import weka.core.jvm as jvm"
   ]
  },
  {
   "cell_type": "code",
   "execution_count": 2,
   "id": "8760efc1",
   "metadata": {},
   "outputs": [
    {
     "name": "stderr",
     "output_type": "stream",
     "text": [
      "DEBUG:weka.core.jvm:Adding bundled jars\n",
      "DEBUG:weka.core.jvm:Adding system classpath\n",
      "DEBUG:weka.core.jvm:Classpath=['C:\\\\Users\\\\ch\\\\miniconda3\\\\envs\\\\tf\\\\Lib\\\\site-packages\\\\javabridge\\\\jars\\\\rhino-1.7R4.jar', 'C:\\\\Users\\\\ch\\\\miniconda3\\\\envs\\\\tf\\\\Lib\\\\site-packages\\\\javabridge\\\\jars\\\\runnablequeue.jar', 'C:\\\\Users\\\\ch\\\\miniconda3\\\\envs\\\\tf\\\\Lib\\\\site-packages\\\\javabridge\\\\jars\\\\cpython.jar', 'c:\\\\Users\\\\ch\\\\miniconda3\\\\envs\\\\tf\\\\lib\\\\site-packages\\\\weka\\\\lib\\\\arpack_combined.jar', 'c:\\\\Users\\\\ch\\\\miniconda3\\\\envs\\\\tf\\\\lib\\\\site-packages\\\\weka\\\\lib\\\\core.jar', 'c:\\\\Users\\\\ch\\\\miniconda3\\\\envs\\\\tf\\\\lib\\\\site-packages\\\\weka\\\\lib\\\\mtj.jar', 'c:\\\\Users\\\\ch\\\\miniconda3\\\\envs\\\\tf\\\\lib\\\\site-packages\\\\weka\\\\lib\\\\python-weka-wrapper.jar', 'c:\\\\Users\\\\ch\\\\miniconda3\\\\envs\\\\tf\\\\lib\\\\site-packages\\\\weka\\\\lib\\\\weka.jar']\n",
      "DEBUG:weka.core.jvm:MaxHeapSize=512m\n",
      "DEBUG:weka.core.jvm:Package support enabled\n"
     ]
    }
   ],
   "source": [
    "jvm.start(system_cp=True, packages=True, max_heap_size=\"512m\")"
   ]
  },
  {
   "cell_type": "code",
   "execution_count": 3,
   "id": "4d8219a6",
   "metadata": {},
   "outputs": [],
   "source": [
    "rnd_seed = 42\n",
    "runs=10\n",
    "nominal_filter = Filter(classname=\"weka.filters.unsupervised.attribute.NumericToNominal\", options=[\"-R\", \"last\"])"
   ]
  },
  {
   "cell_type": "code",
   "execution_count": 4,
   "id": "6e2f6127",
   "metadata": {},
   "outputs": [],
   "source": [
    "data_set=\"..\\\\datasets\\\\Numerical\\\\sonar.csv\""
   ]
  },
  {
   "cell_type": "code",
   "execution_count": null,
   "id": "7d754baa",
   "metadata": {},
   "outputs": [
    {
     "name": "stdout",
     "output_type": "stream",
     "text": [
      "\n",
      "Correctly Classified Instances         151               72.9469 %\n",
      "Incorrectly Classified Instances        56               27.0531 %\n",
      "Kappa statistic                          0.4553\n",
      "Mean absolute error                      0.2703\n",
      "Root mean squared error                  0.507 \n",
      "Relative absolute error                 54.3269 %\n",
      "Root relative squared error            101.6491 %\n",
      "Total Number of Instances              207     \n",
      "\n"
     ]
    }
   ],
   "source": [
    "data = converters.load_any_file(data_set)\n",
    "\n",
    "data.class_is_last()\n",
    "\n",
    "nominal_filter.inputformat(data)\n",
    "data = nominal_filter.filter(data)\n",
    "\n",
    "\n",
    "cls = Classifier(classname=\"weka.classifiers.trees.J48\")\n",
    "\n",
    "evaluation = Evaluation(data)\n",
    "evaluation.crossvalidate_model(cls, data, 10, Random(42))\n",
    "print(evaluation.summary())"
   ]
  },
  {
   "cell_type": "code",
   "execution_count": null,
   "id": "b5f92a8f",
   "metadata": {},
   "outputs": [],
   "source": [
    "splits=[]\n",
    "for s in range(10,100,10):\n",
    "    train, test = train_test_split(data, random_state=42, test_size=s/100)\n",
    "\n",
    "    geneticAlgorithm = NumericalGeneticAlgorithm(train=pd.DataFrame(train), test= pd.DataFrame(test))\n",
    "\n",
    "    print(\"################################ test size= \"+str(s)+\"% ################################\")\n",
    "    results=[]\n",
    "    \n",
    "    for i in range(runs):\n",
    "        results.append(geneticAlgorithm.run(\n",
    "            generation_limit=50,\n",
    "            population_size=10,\n",
    "            rnd_seed=42\n",
    "        ))\n",
    "    \n",
    "    splits.append(results)\n",
    "    np.save('instance.npy', np.array(splits, dtype=object))"
   ]
  },
  {
   "cell_type": "code",
   "execution_count": null,
   "id": "60448563",
   "metadata": {},
   "outputs": [],
   "source": [
    "np.save('Results\\\\sonar.npy', np.array(splits, dtype=object))\n",
    "splits=np.load('Results\\\\sonar.npy',allow_pickle=True)"
   ]
  },
  {
   "cell_type": "code",
   "execution_count": null,
   "id": "f43b1579",
   "metadata": {},
   "outputs": [
    {
     "name": "stdout",
     "output_type": "stream",
     "text": [
      "################################ test size= 10% ################################\n",
      "run number 0 accuarcy: 71.42857142857143\n",
      "run number 1 accuarcy: 66.66666666666667\n",
      "run number 2 accuarcy: 66.66666666666667\n",
      "run number 3 accuarcy: 61.904761904761905\n",
      "run number 4 accuarcy: 47.61904761904762\n",
      "run number 5 accuarcy: 57.142857142857146\n",
      "run number 6 accuarcy: 57.142857142857146\n",
      "run number 7 accuarcy: 66.66666666666667\n",
      "run number 8 accuarcy: 61.904761904761905\n",
      "run number 9 accuarcy: 66.66666666666667\n",
      "################################ test size= 20% ################################\n",
      "run number 0 accuarcy: 47.61904761904762\n",
      "run number 1 accuarcy: 76.19047619047619\n",
      "run number 2 accuarcy: 73.80952380952381\n",
      "run number 3 accuarcy: 66.66666666666667\n",
      "run number 4 accuarcy: 59.523809523809526\n",
      "run number 5 accuarcy: 76.19047619047619\n",
      "run number 6 accuarcy: 59.523809523809526\n",
      "run number 7 accuarcy: 59.523809523809526\n",
      "run number 8 accuarcy: 69.04761904761905\n",
      "run number 9 accuarcy: 61.904761904761905\n",
      "################################ test size= 30% ################################\n",
      "run number 0 accuarcy: 65.07936507936508\n",
      "run number 1 accuarcy: 69.84126984126983\n",
      "run number 2 accuarcy: 68.25396825396825\n",
      "run number 3 accuarcy: 63.492063492063494\n",
      "run number 4 accuarcy: 65.07936507936508\n",
      "run number 5 accuarcy: 71.42857142857143\n",
      "run number 6 accuarcy: 66.66666666666667\n",
      "run number 7 accuarcy: 65.07936507936508\n",
      "run number 8 accuarcy: 71.42857142857143\n",
      "run number 9 accuarcy: 71.42857142857143\n",
      "################################ test size= 40% ################################\n",
      "run number 0 accuarcy: 68.67469879518072\n",
      "run number 1 accuarcy: 72.28915662650603\n",
      "run number 2 accuarcy: 72.28915662650603\n",
      "run number 3 accuarcy: 68.67469879518072\n",
      "run number 4 accuarcy: 57.83132530120482\n",
      "run number 5 accuarcy: 78.3132530120482\n",
      "run number 6 accuarcy: 67.46987951807229\n",
      "run number 7 accuarcy: 67.46987951807229\n",
      "run number 8 accuarcy: 77.10843373493977\n",
      "run number 9 accuarcy: 68.67469879518072\n",
      "################################ test size= 50% ################################\n",
      "run number 0 accuarcy: 68.26923076923077\n",
      "run number 1 accuarcy: 63.46153846153846\n",
      "run number 2 accuarcy: 70.1923076923077\n",
      "run number 3 accuarcy: 75.96153846153847\n",
      "run number 4 accuarcy: 70.1923076923077\n",
      "run number 5 accuarcy: 70.1923076923077\n",
      "run number 6 accuarcy: 74.03846153846153\n",
      "run number 7 accuarcy: 69.23076923076923\n",
      "run number 8 accuarcy: 73.07692307692308\n",
      "run number 9 accuarcy: 67.3076923076923\n",
      "################################ test size= 60% ################################\n",
      "run number 0 accuarcy: 66.4\n",
      "run number 1 accuarcy: 66.4\n",
      "run number 2 accuarcy: 74.4\n",
      "run number 3 accuarcy: 67.2\n",
      "run number 4 accuarcy: 71.2\n",
      "run number 5 accuarcy: 60.8\n",
      "run number 6 accuarcy: 72.0\n",
      "run number 7 accuarcy: 69.6\n",
      "run number 8 accuarcy: 70.4\n",
      "run number 9 accuarcy: 67.2\n",
      "################################ test size= 70% ################################\n",
      "run number 0 accuarcy: 71.72413793103448\n",
      "run number 1 accuarcy: 62.758620689655174\n",
      "run number 2 accuarcy: 73.10344827586206\n",
      "run number 3 accuarcy: 67.58620689655173\n",
      "run number 4 accuarcy: 77.93103448275862\n",
      "run number 5 accuarcy: 62.758620689655174\n",
      "run number 6 accuarcy: 76.55172413793103\n",
      "run number 7 accuarcy: 71.72413793103448\n",
      "run number 8 accuarcy: 69.65517241379311\n",
      "run number 9 accuarcy: 64.82758620689656\n",
      "################################ test size= 80% ################################\n",
      "run number 0 accuarcy: 81.32530120481928\n",
      "run number 1 accuarcy: 71.08433734939759\n",
      "run number 2 accuarcy: 62.65060240963855\n",
      "run number 3 accuarcy: 69.27710843373494\n",
      "run number 4 accuarcy: 62.65060240963855\n",
      "run number 5 accuarcy: 73.49397590361446\n",
      "run number 6 accuarcy: 70.48192771084338\n",
      "run number 7 accuarcy: 64.4578313253012\n",
      "run number 8 accuarcy: 73.49397590361446\n",
      "run number 9 accuarcy: 73.49397590361446\n",
      "################################ test size= 90% ################################\n",
      "run number 0 accuarcy: 65.77540106951872\n",
      "run number 1 accuarcy: 77.54010695187166\n",
      "run number 2 accuarcy: 73.79679144385027\n",
      "run number 3 accuarcy: 70.58823529411765\n",
      "run number 4 accuarcy: 73.79679144385027\n",
      "run number 5 accuarcy: 67.9144385026738\n",
      "run number 6 accuarcy: 72.72727272727273\n",
      "run number 7 accuarcy: 68.98395721925134\n",
      "run number 8 accuarcy: 79.67914438502673\n",
      "run number 9 accuarcy: 74.33155080213903\n"
     ]
    }
   ],
   "source": [
    "best_split=0\n",
    "best_data=None\n",
    "best_solution=0\n",
    "test_size=0\n",
    "for result in splits:   \n",
    "    test_size=test_size+10\n",
    "    print(\"################################ test size= \"+str(test_size)+\"% ################################\") \n",
    "    for i in range(runs):\n",
    "        data=result[i]\n",
    "        train=data[0]\n",
    "        test=data[1]\n",
    "        with open('train.csv', 'w', newline='') as file:\n",
    "            writer = csv.writer(file)\n",
    "            for row in train:\n",
    "                writer.writerow(row)\n",
    "\n",
    "        with open('test.csv', 'w', newline='') as file:\n",
    "            writer = csv.writer(file)\n",
    "            for row in test:\n",
    "                writer.writerow(row)\n",
    "\n",
    "        test = converters.load_any_file(\"test.csv\")\n",
    "        test.class_is_last()\n",
    "        \n",
    "        nominal_filter.inputformat(test)\n",
    "        test = nominal_filter.filter(test)\n",
    "        \n",
    "        cls = Classifier(classname=\"weka.classifiers.trees.J48\")\n",
    "        evaluation=Evaluation(test)\n",
    "        evaluation.crossvalidate_model(cls, test, 10, Random(42))\n",
    "        print(\"run number \"+str(i)+\" accuarcy: \"+str(evaluation.percent_correct))\n",
    "        if evaluation.percent_correct>best_solution:\n",
    "            best_split=test_size/100\n",
    "            best_data=result[i]\n",
    "            best_solution=evaluation.percent_correct"
   ]
  },
  {
   "cell_type": "code",
   "execution_count": null,
   "id": "7dad8987",
   "metadata": {},
   "outputs": [],
   "source": [
    "data=best_data\n",
    "train=data[0]\n",
    "test=data[1]"
   ]
  },
  {
   "cell_type": "code",
   "execution_count": null,
   "id": "28ee15fb",
   "metadata": {},
   "outputs": [],
   "source": [
    "with open('train.csv', 'w', newline='') as file:\n",
    "    writer = csv.writer(file)\n",
    "    for row in train:\n",
    "        writer.writerow(row)\n",
    "\n",
    "with open('test.csv', 'w', newline='') as file:\n",
    "    writer = csv.writer(file)\n",
    "    for row in test:\n",
    "        writer.writerow(row)"
   ]
  },
  {
   "cell_type": "code",
   "execution_count": null,
   "id": "7645b664",
   "metadata": {},
   "outputs": [],
   "source": [
    "test = converters.load_any_file(\"test.csv\")\n",
    "test.class_is_last()\n",
    "\n",
    "train = converters.load_any_file(\"train.csv\")\n",
    "train.class_is_last()\n",
    "\n",
    "\n",
    "nominal_filter.inputformat(train)\n",
    "train = nominal_filter.filter(train)\n",
    "\n",
    "nominal_filter.inputformat(test)\n",
    "test = nominal_filter.filter(test)\n"
   ]
  },
  {
   "cell_type": "code",
   "execution_count": null,
   "id": "f491cd3d",
   "metadata": {},
   "outputs": [
    {
     "name": "stdout",
     "output_type": "stream",
     "text": [
      "train size: 0.19999999999999996\n",
      "test size: 0.8\n",
      "\n",
      "Correctly Classified Instances         135               81.3253 %\n",
      "Incorrectly Classified Instances        31               18.6747 %\n",
      "Kappa statistic                          0.6245\n",
      "Mean absolute error                      0.2034\n",
      "Root mean squared error                  0.4193\n",
      "Relative absolute error                 40.7747 %\n",
      "Root relative squared error             83.9486 %\n",
      "Total Number of Instances              166     \n",
      "\n",
      "[[74. 13.]\n",
      " [18. 61.]]\n"
     ]
    }
   ],
   "source": [
    "cls = Classifier(classname=\"weka.classifiers.trees.J48\")\n",
    "evaluation=Evaluation(test)\n",
    "evaluation.crossvalidate_model(cls, test, 10, Random(42))\n",
    "print(\"train size: \"+str(1-best_split))\n",
    "print(\"test size: \"+str(best_split))\n",
    "print(evaluation.summary())\n",
    "print(evaluation.confusion_matrix)"
   ]
  }
 ],
 "metadata": {
  "kernelspec": {
   "display_name": "base",
   "language": "python",
   "name": "python3"
  },
  "language_info": {
   "codemirror_mode": {
    "name": "ipython",
    "version": 3
   },
   "file_extension": ".py",
   "mimetype": "text/x-python",
   "name": "python",
   "nbconvert_exporter": "python",
   "pygments_lexer": "ipython3",
   "version": "3.9.18"
  },
  "vscode": {
   "interpreter": {
    "hash": "0cf3a3194fbdefa162d654b26690258890867b8a49d09c9d02dff18b3aa877aa"
   }
  }
 },
 "nbformat": 4,
 "nbformat_minor": 5
}
